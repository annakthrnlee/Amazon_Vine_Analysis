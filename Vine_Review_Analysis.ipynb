{
  "nbformat": 4,
  "nbformat_minor": 0,
  "metadata": {
    "colab": {
      "name": "Vine_Review_Analysis.ipynb",
      "provenance": [],
      "collapsed_sections": [],
      "authorship_tag": "ABX9TyPp+//jUXj9Bdmgp5NnMU2j",
      "include_colab_link": true
    },
    "kernelspec": {
      "name": "python3",
      "display_name": "Python 3"
    },
    "language_info": {
      "name": "python"
    }
  },
  "cells": [
    {
      "cell_type": "markdown",
      "metadata": {
        "id": "view-in-github",
        "colab_type": "text"
      },
      "source": [
        "<a href=\"https://colab.research.google.com/github/annakthrnlee/Amazon_Vine_Analysis/blob/main/Vine_Review_Analysis.ipynb\" target=\"_parent\"><img src=\"https://colab.research.google.com/assets/colab-badge.svg\" alt=\"Open In Colab\"/></a>"
      ]
    },
    {
      "cell_type": "code",
      "execution_count": 1,
      "metadata": {
        "colab": {
          "base_uri": "https://localhost:8080/"
        },
        "id": "b6wJnMGch8Ye",
        "outputId": "552fb43c-c516-49de-bb0e-0fafcfcff3bd"
      },
      "outputs": [
        {
          "output_type": "stream",
          "name": "stdout",
          "text": [
            "\r0% [Working]\r            \rHit:1 http://archive.ubuntu.com/ubuntu bionic InRelease\n",
            "\r0% [Waiting for headers] [Connecting to security.ubuntu.com (185.125.190.39)] [\r                                                                               \rGet:2 http://archive.ubuntu.com/ubuntu bionic-updates InRelease [88.7 kB]\n",
            "\r                                                                               \rGet:3 http://archive.ubuntu.com/ubuntu bionic-backports InRelease [74.6 kB]\n",
            "\r                                                                               \rGet:4 http://security.ubuntu.com/ubuntu bionic-security InRelease [88.7 kB]\n",
            "\r                                                                               \rGet:5 https://cloud.r-project.org/bin/linux/ubuntu bionic-cran40/ InRelease [3,626 B]\n",
            "\r                                                                               \rGet:6 http://ppa.launchpad.net/c2d4u.team/c2d4u4.0+/ubuntu bionic InRelease [15.9 kB]\n",
            "\r                                                                               \rHit:7 http://ppa.launchpad.net/cran/libgit2/ubuntu bionic InRelease\n",
            "\r0% [3 InRelease 69.2 kB/74.6 kB 93%] [4 InRelease 88.7 kB/88.7 kB 100%] [Waitin\r0% [3 InRelease 74.6 kB/74.6 kB 100%] [Waiting for headers] [Waiting for header\r                                                                               \rHit:8 http://ppa.launchpad.net/deadsnakes/ppa/ubuntu bionic InRelease\n",
            "Hit:9 http://ppa.launchpad.net/graphics-drivers/ppa/ubuntu bionic InRelease\n",
            "Ign:10 https://developer.download.nvidia.com/compute/machine-learning/repos/ubuntu1804/x86_64  InRelease\n",
            "Get:11 https://developer.download.nvidia.com/compute/cuda/repos/ubuntu1804/x86_64  InRelease [1,581 B]\n",
            "Hit:12 https://developer.download.nvidia.com/compute/machine-learning/repos/ubuntu1804/x86_64  Release\n",
            "Get:13 http://archive.ubuntu.com/ubuntu bionic-updates/universe amd64 Packages [2,311 kB]\n",
            "Get:14 http://archive.ubuntu.com/ubuntu bionic-updates/main amd64 Packages [3,369 kB]\n",
            "Get:15 https://cloud.r-project.org/bin/linux/ubuntu bionic-cran40/ Packages [91.1 kB]\n",
            "Get:16 http://ppa.launchpad.net/c2d4u.team/c2d4u4.0+/ubuntu bionic/main Sources [2,093 kB]\n",
            "Get:17 http://ppa.launchpad.net/c2d4u.team/c2d4u4.0+/ubuntu bionic/main amd64 Packages [1,073 kB]\n",
            "Get:18 http://security.ubuntu.com/ubuntu bionic-security/main amd64 Packages [2,938 kB]\n",
            "Get:19 http://security.ubuntu.com/ubuntu bionic-security/universe amd64 Packages [1,534 kB]\n",
            "Get:20 https://developer.download.nvidia.com/compute/cuda/repos/ubuntu1804/x86_64  Packages [912 kB]\n",
            "Fetched 14.6 MB in 6s (2,371 kB/s)\n",
            "Reading package lists... Done\n"
          ]
        }
      ],
      "source": [
        "import os\n",
        "# Find the latest version of spark 3.0  from http://www.apache.org/dist/spark/ and enter as the spark version\n",
        "# For example:\n",
        "# spark_version = 'spark-3.0.3'\n",
        "spark_version = 'spark-3.3.0'\n",
        "os.environ['SPARK_VERSION'] = spark_version\n",
        "# Install Spark and Java\n",
        "!apt-get update\n",
        "!apt-get install openjdk-11-jdk-headless -qq > /dev/null\n",
        "!wget -q http://www.apache.org/dist/spark/$SPARK_VERSION/$SPARK_VERSION-bin-hadoop3.tgz\n",
        "!tar xf $SPARK_VERSION-bin-hadoop3.tgz\n",
        "!pip install -q findspark\n",
        "# Set Environment Variables\n",
        "os.environ[\"JAVA_HOME\"] = \"/usr/lib/jvm/java-11-openjdk-amd64\"\n",
        "os.environ[\"SPARK_HOME\"] = f\"/content/{spark_version}-bin-hadoop3\"\n",
        "# Start a SparkSession\n",
        "import findspark\n",
        "findspark.init()"
      ]
    },
    {
      "cell_type": "code",
      "source": [
        "from pyspark.sql import SparkSession\n",
        "spark = SparkSession.builder.appName(\"M16-Amazon-Challenge\").config(\"spark.driver.extraClassPath\",\"/content/postgresql-42.2.16.jar\").getOrCreate()"
      ],
      "metadata": {
        "id": "ksEOu_XliGdk"
      },
      "execution_count": 2,
      "outputs": []
    },
    {
      "cell_type": "code",
      "source": [
        "from pyspark import SparkFiles\n",
        "url = \"https://s3.amazonaws.com/amazon-reviews-pds/tsv/amazon_reviews_us_Automotive_v1_00.tsv.gz\"\n",
        "spark.sparkContext.addFile(url)\n",
        "df = spark.read.option(\"encoding\", \"UTF-8\").csv(SparkFiles.get(\"amazon_reviews_us_Automotive_v1_00.tsv.gz\"), sep=\"\\t\", header=True, inferSchema=True)\n",
        "df.show()"
      ],
      "metadata": {
        "colab": {
          "base_uri": "https://localhost:8080/"
        },
        "id": "HPiM7sJyiSxT",
        "outputId": "00ff7290-5800-40d1-a31f-393b47618c49"
      },
      "execution_count": 3,
      "outputs": [
        {
          "output_type": "stream",
          "name": "stdout",
          "text": [
            "+-----------+-----------+--------------+----------+--------------+--------------------+----------------+-----------+-------------+-----------+----+-----------------+--------------------+--------------------+-------------------+\n",
            "|marketplace|customer_id|     review_id|product_id|product_parent|       product_title|product_category|star_rating|helpful_votes|total_votes|vine|verified_purchase|     review_headline|         review_body|        review_date|\n",
            "+-----------+-----------+--------------+----------+--------------+--------------------+----------------+-----------+-------------+-----------+----+-----------------+--------------------+--------------------+-------------------+\n",
            "|         US|   36075342| RAB23OVFNCXZQ|B00LPRXQ4Y|     339193102|17\" 2003-2006 For...|      Automotive|          1|            0|          0|   N|                Y|     As it was used,|As it was used, t...|2015-08-31 00:00:00|\n",
            "|         US|   42462164|R3NORADVJO6IE6|B000C7S0TO|     907684644|Spectra Premium C...|      Automotive|          5|            0|          0|   N|                Y|          Five Stars|Put it in fine, n...|2015-08-31 00:00:00|\n",
            "|         US|   21241933|R299F4SO98S5OO|B000CO9WE4|     752246352|K&N E-4665 High P...|      Automotive|          5|            1|          1|   N|                Y|Great fit and per...|Fit wonderfully o...|2015-08-31 00:00:00|\n",
            "|         US|   52570308|R2DA9DOT03UW6I|B000GKD5NI|     105401756|Suncutters Rear W...|      Automotive|          5|            2|          3|   N|                Y|Good for the pric...|Good for the pric...|2015-08-31 00:00:00|\n",
            "|         US|   38200102|R2OGCH681EQHU6|B009SDA7TE|     728471129|Lug Nuts Landcrui...|      Automotive|          5|            0|          0|   N|                Y|          Five Stars|Fit perfectly on ...|2015-08-31 00:00:00|\n",
            "|         US|   34866169| R2JMKIC16MHD7|B00KV15KRG|     962286893|Fits 2007-2009 Ho...|      Automotive|          5|            2|          2|   N|                Y|Fit Well and Bett...|Product fits well...|2015-08-31 00:00:00|\n",
            "|         US|     184627|R1DB5DA7CWWTI8|B0002JMAKW|     267002949|Castrol 12614 Dot...|      Automotive|          5|            0|          0|   N|                Y|convenient, fast ...|convenient ,fast ...|2015-08-31 00:00:00|\n",
            "|         US|    2975964|R1N8XWFDK4QACP|B00XJKMM6S|     570789093|New Power Window ...|      Automotive|          5|            0|          0|   N|                Y|          Five Stars|             is good|2015-08-31 00:00:00|\n",
            "|         US|   40946484|R19VFLX6MRU0CX|B000C5CEKC|     389524802|Motorad MGC-791 L...|      Automotive|          5|            0|          0|   N|                Y|GOOD deal.  Great...|wonderful.  if yo...|2015-08-31 00:00:00|\n",
            "|         US|   12554469| RLTD8YDGTP9PT|B00GD9R2A8|      21425394|Genuine Ford AL3Z...|      Automotive|          1|            0|          0|   N|                Y|Does not fit my F...|Does not work wit...|2015-08-31 00:00:00|\n",
            "|         US|   35335277| R78B5LCFJ52SR|B00RM327NG|     816815445|Air Vent Smartpho...|      Automotive|          4|            0|          0|   N|                Y|            Not bad!|I really loved th...|2015-08-31 00:00:00|\n",
            "|         US|   44957003|R33SKWL0HEQIQ9|B0071NL7UQ|     192225755|FDJ New Replaceme...|      Automotive|          5|            0|          0|   N|                Y|          Five Stars| Just what I wanted.|2015-08-31 00:00:00|\n",
            "|         US|     444125|R1HIOV0UX7P13D|B00DSOL0FY|     849414056|Omix-Ada 17402.09...|      Automotive|          5|            0|          0|   N|                Y|          Five Stars|Great product and...|2015-08-31 00:00:00|\n",
            "|         US|   35829199| R4WS0E0MSP9DH|B00GRV48TK|     651316983|GMB 530-2480 Fuel...|      Automotive|          5|            2|          2|   N|                Y|           Well made|Appears to be wel...|2015-08-31 00:00:00|\n",
            "|         US|   16825098| R2RUIDUMDKG7P|B000E4PCGE|     694793259|00-03 NISSAN SENT...|      Automotive|          3|            0|          0|   N|                Y|new and a great l...|Product was as de...|2015-08-31 00:00:00|\n",
            "|         US|    2583392| RZSA6L4M4D4XA|B005Z8HAUK|     732072782|Slime 40026 2X He...|      Automotive|          5|            0|          0|   N|                Y|          Five Stars|SO much quieter t...|2015-08-31 00:00:00|\n",
            "|         US|   10127903|R1O3NGQNCFXKR6|B0043AV4NK|     533179941|MegaBrand N1 4\" B...|      Automotive|          5|            0|          0|   N|                Y|              decent|Great for the pri...|2015-08-31 00:00:00|\n",
            "|         US|   17937309|R2IEM66RCBJ95A|B00CDHD76C|     126169507|Jackly 45-in-One ...|      Automotive|          5|            0|          0|   N|                Y|Nice set of tools...|Nice set of tools...|2015-08-31 00:00:00|\n",
            "|         US|   17145638|R2BQ9O517KSCP8|B000CF1XO0|     475232737|Bosch 3397118942 ...|      Automotive|          5|            0|          0|   N|                N|          Five Stars|       Everything ok|2015-08-31 00:00:00|\n",
            "|         US|   32813839|R1KF86427VR7AC|B003VLBPJA|     897802619|Heavy-Duty 15\" Ca...|      Automotive|          3|            0|          0|   N|                Y|         Three Stars|I hope the hooks ...|2015-08-31 00:00:00|\n",
            "+-----------+-----------+--------------+----------+--------------+--------------------+----------------+-----------+-------------+-----------+----+-----------------+--------------------+--------------------+-------------------+\n",
            "only showing top 20 rows\n",
            "\n"
          ]
        }
      ]
    },
    {
      "cell_type": "code",
      "source": [
        "df1 = df.filter(df.total_votes >= 20)\n",
        "df1.show(10)"
      ],
      "metadata": {
        "colab": {
          "base_uri": "https://localhost:8080/"
        },
        "id": "pqK2JOHZjwTP",
        "outputId": "c9df9391-0714-4705-c199-d1753aca732d"
      },
      "execution_count": 4,
      "outputs": [
        {
          "output_type": "stream",
          "name": "stdout",
          "text": [
            "+-----------+-----------+--------------+----------+--------------+--------------------+----------------+-----------+-------------+-----------+----+-----------------+--------------------+--------------------+-------------------+\n",
            "|marketplace|customer_id|     review_id|product_id|product_parent|       product_title|product_category|star_rating|helpful_votes|total_votes|vine|verified_purchase|     review_headline|         review_body|        review_date|\n",
            "+-----------+-----------+--------------+----------+--------------+--------------------+----------------+-----------+-------------+-----------+----+-----------------+--------------------+--------------------+-------------------+\n",
            "|         US|   36886257|R1T4FVSABO0IDP|B00V03D9KY|     966609438|Lukas Lk-7950 WD ...|      Automotive|          5|            8|         31|   N|                Y|      Great Value!!!|LK-7950 is an out...|2015-08-31 00:00:00|\n",
            "|         US|   21035025|R397VXR1GAK6C9|B00IS941D2|     373170065|EAG 07-17 Jeep Wr...|      Automotive|          5|           21|         21|   N|                Y|Awesome bumper. I...|Awesome bumper. I...|2015-08-31 00:00:00|\n",
            "|         US|   11359139|R2H6KB9RHS17GA|B00VNBDWPK|     790984844|OPT7 Fluxbeam LED...|      Automotive|          3|           59|         69|   N|                Y|Great bulb with a...|These bulbs are g...|2015-08-31 00:00:00|\n",
            "|         US|   30634293|R3HAK0MUN9F5IT|B00UW4DLJ6|     591002423|Brightech - SCORP...|      Automotive|          1|            6|         28|   N|                Y|            One Star|Sparks flew out o...|2015-08-31 00:00:00|\n",
            "|         US|   43577705|R29UTZTOPUVRSV|B0101SLT5U|     735754927|Crystal Bling Car...|      Automotive|          5|           21|         21|   N|                Y|             LOVE IT|I absolutely LOVE...|2015-08-31 00:00:00|\n",
            "|         US|   11599061| RY9FLUD8VG6XD|B009W85R4A|     415177022|Full Size Truck B...|      Automotive|          4|           27|         32|   N|                Y|Fits my 2000 Chev...|Fits my 2000 Chev...|2015-08-31 00:00:00|\n",
            "|         US|   14562622|R3Q5NAY8BGAKHI|B000GQA8DC|     228692727|Rampage Jeep 3922...|      Automotive|          5|           34|         40|   N|                Y|          Five Stars|            Love it!|2015-08-31 00:00:00|\n",
            "|         US|   52600055| RRVJ7TYDEK7EO|B002G3OG6S|     845275995|Bosch Aerotwin 33...|      Automotive|          5|           30|         30|   N|                Y|Is the the right ...|These wipers fit ...|2015-08-31 00:00:00|\n",
            "|         US|   13188223|R2S4CHISQA2WDH|B00LAJTEFW|     592035376|VTR TR-416 1 1/2\"...|      Automotive|          5|           17|         20|   N|                Y|F250's rubber val...|I have an F250 an...|2015-08-31 00:00:00|\n",
            "|         US|   47664434|R1JNALJ77OULPH|B00G620ZVU|     838834695|Nilight Driving F...|      Automotive|          4|           57|         65|   N|                Y|So far so good, b...|These lights look...|2015-08-31 00:00:00|\n",
            "+-----------+-----------+--------------+----------+--------------+--------------------+----------------+-----------+-------------+-----------+----+-----------------+--------------------+--------------------+-------------------+\n",
            "only showing top 10 rows\n",
            "\n"
          ]
        }
      ]
    },
    {
      "cell_type": "code",
      "source": [
        "df2 = df1.filter((df1.helpful_votes / df1.total_votes) >= 0.5)\n",
        "df2.show(10)"
      ],
      "metadata": {
        "colab": {
          "base_uri": "https://localhost:8080/"
        },
        "id": "AqJaupRNkCEc",
        "outputId": "5c00dad5-faf2-4813-921f-bbdd3e2cb1de"
      },
      "execution_count": 5,
      "outputs": [
        {
          "output_type": "stream",
          "name": "stdout",
          "text": [
            "+-----------+-----------+--------------+----------+--------------+--------------------+----------------+-----------+-------------+-----------+----+-----------------+--------------------+--------------------+-------------------+\n",
            "|marketplace|customer_id|     review_id|product_id|product_parent|       product_title|product_category|star_rating|helpful_votes|total_votes|vine|verified_purchase|     review_headline|         review_body|        review_date|\n",
            "+-----------+-----------+--------------+----------+--------------+--------------------+----------------+-----------+-------------+-----------+----+-----------------+--------------------+--------------------+-------------------+\n",
            "|         US|   21035025|R397VXR1GAK6C9|B00IS941D2|     373170065|EAG 07-17 Jeep Wr...|      Automotive|          5|           21|         21|   N|                Y|Awesome bumper. I...|Awesome bumper. I...|2015-08-31 00:00:00|\n",
            "|         US|   11359139|R2H6KB9RHS17GA|B00VNBDWPK|     790984844|OPT7 Fluxbeam LED...|      Automotive|          3|           59|         69|   N|                Y|Great bulb with a...|These bulbs are g...|2015-08-31 00:00:00|\n",
            "|         US|   43577705|R29UTZTOPUVRSV|B0101SLT5U|     735754927|Crystal Bling Car...|      Automotive|          5|           21|         21|   N|                Y|             LOVE IT|I absolutely LOVE...|2015-08-31 00:00:00|\n",
            "|         US|   11599061| RY9FLUD8VG6XD|B009W85R4A|     415177022|Full Size Truck B...|      Automotive|          4|           27|         32|   N|                Y|Fits my 2000 Chev...|Fits my 2000 Chev...|2015-08-31 00:00:00|\n",
            "|         US|   14562622|R3Q5NAY8BGAKHI|B000GQA8DC|     228692727|Rampage Jeep 3922...|      Automotive|          5|           34|         40|   N|                Y|          Five Stars|            Love it!|2015-08-31 00:00:00|\n",
            "|         US|   52600055| RRVJ7TYDEK7EO|B002G3OG6S|     845275995|Bosch Aerotwin 33...|      Automotive|          5|           30|         30|   N|                Y|Is the the right ...|These wipers fit ...|2015-08-31 00:00:00|\n",
            "|         US|   13188223|R2S4CHISQA2WDH|B00LAJTEFW|     592035376|VTR TR-416 1 1/2\"...|      Automotive|          5|           17|         20|   N|                Y|F250's rubber val...|I have an F250 an...|2015-08-31 00:00:00|\n",
            "|         US|   47664434|R1JNALJ77OULPH|B00G620ZVU|     838834695|Nilight Driving F...|      Automotive|          4|           57|         65|   N|                Y|So far so good, b...|These lights look...|2015-08-31 00:00:00|\n",
            "|         US|   12510444|R13YNG792BCR77|B00JZQXJ3K|     411955465|TYGER Towing Comb...|      Automotive|          5|           19|         20|   N|                Y|I decided to buy ...|So I bought a new...|2015-08-31 00:00:00|\n",
            "|         US|   31186838|R1RYG8MVOPK4Q2|B00OHZ20X4|      87658863|AutoFloorGuard Co...|      Automotive|          5|           18|         20|   N|                Y|Critical Applicat...|I'm extremely sat...|2015-08-31 00:00:00|\n",
            "+-----------+-----------+--------------+----------+--------------+--------------------+----------------+-----------+-------------+-----------+----+-----------------+--------------------+--------------------+-------------------+\n",
            "only showing top 10 rows\n",
            "\n"
          ]
        }
      ]
    },
    {
      "cell_type": "code",
      "source": [
        "paid_df = df2.filter(df2.vine == 'Y')\n",
        "paid_df.show(10)"
      ],
      "metadata": {
        "colab": {
          "base_uri": "https://localhost:8080/"
        },
        "id": "TKlv-f5ykEhu",
        "outputId": "4981e87f-1f5d-4fd0-9a6f-022cc1f09c79"
      },
      "execution_count": 6,
      "outputs": [
        {
          "output_type": "stream",
          "name": "stdout",
          "text": [
            "+-----------+-----------+--------------+----------+--------------+--------------------+----------------+-----------+-------------+-----------+----+-----------------+--------------------+--------------------+-------------------+\n",
            "|marketplace|customer_id|     review_id|product_id|product_parent|       product_title|product_category|star_rating|helpful_votes|total_votes|vine|verified_purchase|     review_headline|         review_body|        review_date|\n",
            "+-----------+-----------+--------------+----------+--------------+--------------------+----------------+-----------+-------------+-----------+----+-----------------+--------------------+--------------------+-------------------+\n",
            "|         US|   35560012| REKN4PLM5174P|B00P9OF04I|      44916596|Meguiar's Heavy D...|      Automotive|          4|          219|        225|   Y|                N|Head 2 Head, It's...|Having come into ...|2015-07-08 00:00:00|\n",
            "|         US|   52693410| RQOG8IIJX7CKB|B00P9OF04I|      44916596|Meguiar's Heavy D...|      Automotive|          4|           21|         27|   Y|                N|it cleans well en...|After nearly 8 an...|2015-05-06 00:00:00|\n",
            "|         US|   51881294|R33EJ9PSZR13CM|B00PA2LMVY|     752637486|Griot's Garage 10...|      Automotive|          4|           26|         30|   Y|                N|Griot's Garage Br...|I decided to do a...|2015-04-10 00:00:00|\n",
            "|         US|   34159914| RD2BFV896F321|B00JF5HR7K|     738632753|CURT Basket Style...|      Automotive|          5|           16|         20|   Y|                N|      Indespensible!|I have a family o...|2015-04-08 00:00:00|\n",
            "|         US|   42466433|R37GSXLA11XF8N|B001TFE38A|     251522966|Chemical Guys (WA...|      Automotive|          5|           30|         34|   Y|                N|An exceptional pr...|As a youth I had ...|2014-12-31 00:00:00|\n",
            "|         US|   49698652| RQBQYBM9VMSH4|B00FALW57K|     263596971|Chemical Guys Eas...|      Automotive|          5|           19|         20|   Y|                N|Much Better Than ...|I have been using...|2014-12-26 00:00:00|\n",
            "|         US|   51302590|R2YE4F9ESKFWEK|B00MBPLPOC|     905487198|Wipe New TRTLKIT ...|      Automotive|          3|           20|         23|   Y|                N|After Shining my ...|Wipe New Tires is...|2014-11-22 00:00:00|\n",
            "|         US|   50738297|R1E4L7HHB8TBP9|B00G8WLT7C|     926772123|NOCO 12V Plug Soc...|      Automotive|          4|           80|         92|   Y|                N|High quality prod...|The NOCO GC020 12...|2014-11-11 00:00:00|\n",
            "|         US|   44012949|R2C2WXDXMZL005|B00K889FCI|     929965227|Wipe New HDL6PCMT...|      Automotive|          2|           20|         25|   Y|                N|Deceptively descr...|As others have me...|2014-11-11 00:00:00|\n",
            "|         US|   45164643|R1PPY4U0K03KTE|B00IOBSXQ0|     599686141|Turtle Wax T-12KT...|      Automotive|          5|           31|         38|   Y|                N|...And Turtle Wax...|...And Turtle Wax...|2014-09-29 00:00:00|\n",
            "+-----------+-----------+--------------+----------+--------------+--------------------+----------------+-----------+-------------+-----------+----+-----------------+--------------------+--------------------+-------------------+\n",
            "only showing top 10 rows\n",
            "\n"
          ]
        }
      ]
    },
    {
      "cell_type": "code",
      "source": [
        "unpaid_df = df2.filter(df2.vine == 'N')\n",
        "unpaid_df.show(10)"
      ],
      "metadata": {
        "colab": {
          "base_uri": "https://localhost:8080/"
        },
        "id": "BDhNnQYykU9k",
        "outputId": "34dc33b1-92f4-43fb-a60c-da4e401bd69f"
      },
      "execution_count": 8,
      "outputs": [
        {
          "output_type": "stream",
          "name": "stdout",
          "text": [
            "+-----------+-----------+--------------+----------+--------------+--------------------+----------------+-----------+-------------+-----------+----+-----------------+--------------------+--------------------+-------------------+\n",
            "|marketplace|customer_id|     review_id|product_id|product_parent|       product_title|product_category|star_rating|helpful_votes|total_votes|vine|verified_purchase|     review_headline|         review_body|        review_date|\n",
            "+-----------+-----------+--------------+----------+--------------+--------------------+----------------+-----------+-------------+-----------+----+-----------------+--------------------+--------------------+-------------------+\n",
            "|         US|   21035025|R397VXR1GAK6C9|B00IS941D2|     373170065|EAG 07-17 Jeep Wr...|      Automotive|          5|           21|         21|   N|                Y|Awesome bumper. I...|Awesome bumper. I...|2015-08-31 00:00:00|\n",
            "|         US|   11359139|R2H6KB9RHS17GA|B00VNBDWPK|     790984844|OPT7 Fluxbeam LED...|      Automotive|          3|           59|         69|   N|                Y|Great bulb with a...|These bulbs are g...|2015-08-31 00:00:00|\n",
            "|         US|   43577705|R29UTZTOPUVRSV|B0101SLT5U|     735754927|Crystal Bling Car...|      Automotive|          5|           21|         21|   N|                Y|             LOVE IT|I absolutely LOVE...|2015-08-31 00:00:00|\n",
            "|         US|   11599061| RY9FLUD8VG6XD|B009W85R4A|     415177022|Full Size Truck B...|      Automotive|          4|           27|         32|   N|                Y|Fits my 2000 Chev...|Fits my 2000 Chev...|2015-08-31 00:00:00|\n",
            "|         US|   14562622|R3Q5NAY8BGAKHI|B000GQA8DC|     228692727|Rampage Jeep 3922...|      Automotive|          5|           34|         40|   N|                Y|          Five Stars|            Love it!|2015-08-31 00:00:00|\n",
            "|         US|   52600055| RRVJ7TYDEK7EO|B002G3OG6S|     845275995|Bosch Aerotwin 33...|      Automotive|          5|           30|         30|   N|                Y|Is the the right ...|These wipers fit ...|2015-08-31 00:00:00|\n",
            "|         US|   13188223|R2S4CHISQA2WDH|B00LAJTEFW|     592035376|VTR TR-416 1 1/2\"...|      Automotive|          5|           17|         20|   N|                Y|F250's rubber val...|I have an F250 an...|2015-08-31 00:00:00|\n",
            "|         US|   47664434|R1JNALJ77OULPH|B00G620ZVU|     838834695|Nilight Driving F...|      Automotive|          4|           57|         65|   N|                Y|So far so good, b...|These lights look...|2015-08-31 00:00:00|\n",
            "|         US|   12510444|R13YNG792BCR77|B00JZQXJ3K|     411955465|TYGER Towing Comb...|      Automotive|          5|           19|         20|   N|                Y|I decided to buy ...|So I bought a new...|2015-08-31 00:00:00|\n",
            "|         US|   31186838|R1RYG8MVOPK4Q2|B00OHZ20X4|      87658863|AutoFloorGuard Co...|      Automotive|          5|           18|         20|   N|                Y|Critical Applicat...|I'm extremely sat...|2015-08-31 00:00:00|\n",
            "+-----------+-----------+--------------+----------+--------------+--------------------+----------------+-----------+-------------+-----------+----+-----------------+--------------------+--------------------+-------------------+\n",
            "only showing top 10 rows\n",
            "\n"
          ]
        }
      ]
    },
    {
      "cell_type": "code",
      "source": [
        "total_paid_reviews = paid_df.count()\n",
        "total_paid_reviews"
      ],
      "metadata": {
        "colab": {
          "base_uri": "https://localhost:8080/"
        },
        "id": "l0yQ5ZAFkYqz",
        "outputId": "8751d8b1-2aef-4dd1-e962-a3c9281a1696"
      },
      "execution_count": 9,
      "outputs": [
        {
          "output_type": "execute_result",
          "data": {
            "text/plain": [
              "82"
            ]
          },
          "metadata": {},
          "execution_count": 9
        }
      ]
    },
    {
      "cell_type": "code",
      "source": [
        "paid_five_star_reviews = paid_df.filter(paid_df.star_rating == 5).count()\n",
        "paid_five_star_reviews"
      ],
      "metadata": {
        "colab": {
          "base_uri": "https://localhost:8080/"
        },
        "id": "uDz_Zshbkn3s",
        "outputId": "4f3139ed-9a0d-40ee-f0e4-e5db6d301919"
      },
      "execution_count": 10,
      "outputs": [
        {
          "output_type": "execute_result",
          "data": {
            "text/plain": [
              "33"
            ]
          },
          "metadata": {},
          "execution_count": 10
        }
      ]
    },
    {
      "cell_type": "code",
      "source": [
        "paid_five_star_percent = (paid_five_star_reviews / total_paid_reviews) * 100\n",
        "paid_five_star_percent"
      ],
      "metadata": {
        "colab": {
          "base_uri": "https://localhost:8080/"
        },
        "id": "1nZZtYbwksuX",
        "outputId": "5d7dcb55-f1f2-40f2-ea41-192da0960567"
      },
      "execution_count": 11,
      "outputs": [
        {
          "output_type": "execute_result",
          "data": {
            "text/plain": [
              "40.243902439024396"
            ]
          },
          "metadata": {},
          "execution_count": 11
        }
      ]
    },
    {
      "cell_type": "code",
      "source": [
        "total_unpaid_reviews = unpaid_df.count()\n",
        "total_unpaid_reviews"
      ],
      "metadata": {
        "colab": {
          "base_uri": "https://localhost:8080/"
        },
        "id": "UspN8pLukuWR",
        "outputId": "a99a8710-b2fc-4300-e0ec-a12f9e1cd78a"
      },
      "execution_count": 12,
      "outputs": [
        {
          "output_type": "execute_result",
          "data": {
            "text/plain": [
              "24742"
            ]
          },
          "metadata": {},
          "execution_count": 12
        }
      ]
    },
    {
      "cell_type": "code",
      "source": [
        "unpaid_five_star_reviews = unpaid_df.filter(unpaid_df.star_rating == 5).count()\n",
        "unpaid_five_star_reviews"
      ],
      "metadata": {
        "colab": {
          "base_uri": "https://localhost:8080/"
        },
        "id": "paVVXbwZkyof",
        "outputId": "8b3b99c9-d3f6-4d43-c059-32dccf08da0d"
      },
      "execution_count": 13,
      "outputs": [
        {
          "output_type": "execute_result",
          "data": {
            "text/plain": [
              "12807"
            ]
          },
          "metadata": {},
          "execution_count": 13
        }
      ]
    },
    {
      "cell_type": "code",
      "source": [
        "unpaid_five_star_percent = (unpaid_five_star_reviews / total_unpaid_reviews) * 100\n",
        "unpaid_five_star_percent"
      ],
      "metadata": {
        "colab": {
          "base_uri": "https://localhost:8080/"
        },
        "id": "aUa-J5RUk8vG",
        "outputId": "004bddca-0e2c-47cf-a255-c676c5ab1a45"
      },
      "execution_count": 14,
      "outputs": [
        {
          "output_type": "execute_result",
          "data": {
            "text/plain": [
              "51.76218575701237"
            ]
          },
          "metadata": {},
          "execution_count": 14
        }
      ]
    }
  ]
}